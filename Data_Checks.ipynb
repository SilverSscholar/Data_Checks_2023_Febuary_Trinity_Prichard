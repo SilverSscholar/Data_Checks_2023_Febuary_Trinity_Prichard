{
 "cells": [
  {
   "cell_type": "code",
   "execution_count": 1,
   "id": "d73ce77c",
   "metadata": {},
   "outputs": [],
   "source": [
    "import requests\n",
    "import pandas as pd "
   ]
  },
  {
   "cell_type": "code",
   "execution_count": 2,
   "id": "d2e2e92c",
   "metadata": {},
   "outputs": [],
   "source": [
    "url = \"https://randomuser.me/api\""
   ]
  },
  {
   "cell_type": "code",
   "execution_count": 3,
   "id": "ffd468d9",
   "metadata": {},
   "outputs": [],
   "source": [
    "r = requests.get(url)"
   ]
  },
  {
   "cell_type": "code",
   "execution_count": 4,
   "id": "c1f9afb7",
   "metadata": {},
   "outputs": [
    {
     "data": {
      "text/plain": [
       "<Response [200]>"
      ]
     },
     "execution_count": 4,
     "metadata": {},
     "output_type": "execute_result"
    }
   ],
   "source": [
    "r"
   ]
  },
  {
   "cell_type": "code",
   "execution_count": 5,
   "id": "2b46839c",
   "metadata": {},
   "outputs": [],
   "source": [
    "json = r.json()"
   ]
  },
  {
   "cell_type": "code",
   "execution_count": 6,
   "id": "62f97743",
   "metadata": {},
   "outputs": [
    {
     "data": {
      "text/plain": [
       "{'results': [{'gender': 'male',\n",
       "   'name': {'title': 'Mr', 'first': 'Rafael', 'last': 'Schmidt'},\n",
       "   'location': {'street': {'number': 5216, 'name': 'Rectory Lane'},\n",
       "    'city': 'Sunderland',\n",
       "    'state': 'Norfolk',\n",
       "    'country': 'United Kingdom',\n",
       "    'postcode': 'MG4L 3EN',\n",
       "    'coordinates': {'latitude': '-9.3924', 'longitude': '-102.7317'},\n",
       "    'timezone': {'offset': '+5:45', 'description': 'Kathmandu'}},\n",
       "   'email': 'rafael.schmidt@example.com',\n",
       "   'login': {'uuid': 'cdb8bdaa-e96c-4650-a9bf-354496f6b487',\n",
       "    'username': 'sadwolf306',\n",
       "    'password': 'minime',\n",
       "    'salt': '4IAUAvdk',\n",
       "    'md5': '506fd2827ba87941ac1595f6ffaeaeab',\n",
       "    'sha1': '4fa55618e187ffc18efe1590a540d1b9899dd795',\n",
       "    'sha256': '3a1a25558c193a68fde9d66cf8d8236999693f33c9c524261af200ada95e6877'},\n",
       "   'dob': {'date': '1962-06-11T15:17:45.872Z', 'age': 60},\n",
       "   'registered': {'date': '2007-08-19T02:43:52.832Z', 'age': 15},\n",
       "   'phone': '0181 860 6776',\n",
       "   'cell': '07586 399502',\n",
       "   'id': {'name': 'NINO', 'value': 'HB 82 34 91 O'},\n",
       "   'picture': {'large': 'https://randomuser.me/api/portraits/men/29.jpg',\n",
       "    'medium': 'https://randomuser.me/api/portraits/med/men/29.jpg',\n",
       "    'thumbnail': 'https://randomuser.me/api/portraits/thumb/men/29.jpg'},\n",
       "   'nat': 'GB'}],\n",
       " 'info': {'seed': 'f1adb84555677181',\n",
       "  'results': 1,\n",
       "  'page': 1,\n",
       "  'version': '1.4'}}"
      ]
     },
     "execution_count": 6,
     "metadata": {},
     "output_type": "execute_result"
    }
   ],
   "source": [
    "json"
   ]
  },
  {
   "cell_type": "code",
   "execution_count": 7,
   "id": "c26f5a52",
   "metadata": {},
   "outputs": [
    {
     "data": {
      "text/plain": [
       "dict_keys(['results', 'info'])"
      ]
     },
     "execution_count": 7,
     "metadata": {},
     "output_type": "execute_result"
    }
   ],
   "source": [
    "json.keys()"
   ]
  },
  {
   "cell_type": "code",
   "execution_count": 8,
   "id": "c91de102",
   "metadata": {},
   "outputs": [
    {
     "data": {
      "text/plain": [
       "[{'gender': 'male',\n",
       "  'name': {'title': 'Mr', 'first': 'Rafael', 'last': 'Schmidt'},\n",
       "  'location': {'street': {'number': 5216, 'name': 'Rectory Lane'},\n",
       "   'city': 'Sunderland',\n",
       "   'state': 'Norfolk',\n",
       "   'country': 'United Kingdom',\n",
       "   'postcode': 'MG4L 3EN',\n",
       "   'coordinates': {'latitude': '-9.3924', 'longitude': '-102.7317'},\n",
       "   'timezone': {'offset': '+5:45', 'description': 'Kathmandu'}},\n",
       "  'email': 'rafael.schmidt@example.com',\n",
       "  'login': {'uuid': 'cdb8bdaa-e96c-4650-a9bf-354496f6b487',\n",
       "   'username': 'sadwolf306',\n",
       "   'password': 'minime',\n",
       "   'salt': '4IAUAvdk',\n",
       "   'md5': '506fd2827ba87941ac1595f6ffaeaeab',\n",
       "   'sha1': '4fa55618e187ffc18efe1590a540d1b9899dd795',\n",
       "   'sha256': '3a1a25558c193a68fde9d66cf8d8236999693f33c9c524261af200ada95e6877'},\n",
       "  'dob': {'date': '1962-06-11T15:17:45.872Z', 'age': 60},\n",
       "  'registered': {'date': '2007-08-19T02:43:52.832Z', 'age': 15},\n",
       "  'phone': '0181 860 6776',\n",
       "  'cell': '07586 399502',\n",
       "  'id': {'name': 'NINO', 'value': 'HB 82 34 91 O'},\n",
       "  'picture': {'large': 'https://randomuser.me/api/portraits/men/29.jpg',\n",
       "   'medium': 'https://randomuser.me/api/portraits/med/men/29.jpg',\n",
       "   'thumbnail': 'https://randomuser.me/api/portraits/thumb/men/29.jpg'},\n",
       "  'nat': 'GB'}]"
      ]
     },
     "execution_count": 8,
     "metadata": {},
     "output_type": "execute_result"
    }
   ],
   "source": [
    "json['results']"
   ]
  },
  {
   "cell_type": "code",
   "execution_count": 9,
   "id": "e6e1732a",
   "metadata": {},
   "outputs": [
    {
     "data": {
      "text/plain": [
       "{'seed': 'f1adb84555677181', 'results': 1, 'page': 1, 'version': '1.4'}"
      ]
     },
     "execution_count": 9,
     "metadata": {},
     "output_type": "execute_result"
    }
   ],
   "source": [
    "json['info']"
   ]
  },
  {
   "cell_type": "code",
   "execution_count": 10,
   "id": "3aaa0271",
   "metadata": {},
   "outputs": [
    {
     "data": {
      "text/plain": [
       "list"
      ]
     },
     "execution_count": 10,
     "metadata": {},
     "output_type": "execute_result"
    }
   ],
   "source": [
    "type(json['results'])"
   ]
  },
  {
   "cell_type": "code",
   "execution_count": 11,
   "id": "ff568d45",
   "metadata": {},
   "outputs": [
    {
     "data": {
      "text/plain": [
       "dict"
      ]
     },
     "execution_count": 11,
     "metadata": {},
     "output_type": "execute_result"
    }
   ],
   "source": [
    "type(json['info'])"
   ]
  },
  {
   "cell_type": "code",
   "execution_count": 12,
   "id": "4f955966",
   "metadata": {},
   "outputs": [
    {
     "data": {
      "text/plain": [
       "dict"
      ]
     },
     "execution_count": 12,
     "metadata": {},
     "output_type": "execute_result"
    }
   ],
   "source": [
    "type(json['results'][0])"
   ]
  },
  {
   "cell_type": "code",
   "execution_count": 13,
   "id": "072f4705",
   "metadata": {},
   "outputs": [],
   "source": [
    "df = pd.DataFrame(json['results'])"
   ]
  },
  {
   "cell_type": "code",
   "execution_count": 14,
   "id": "c7c4ccd0",
   "metadata": {},
   "outputs": [
    {
     "data": {
      "text/html": [
       "<div>\n",
       "<style scoped>\n",
       "    .dataframe tbody tr th:only-of-type {\n",
       "        vertical-align: middle;\n",
       "    }\n",
       "\n",
       "    .dataframe tbody tr th {\n",
       "        vertical-align: top;\n",
       "    }\n",
       "\n",
       "    .dataframe thead th {\n",
       "        text-align: right;\n",
       "    }\n",
       "</style>\n",
       "<table border=\"1\" class=\"dataframe\">\n",
       "  <thead>\n",
       "    <tr style=\"text-align: right;\">\n",
       "      <th></th>\n",
       "      <th>gender</th>\n",
       "      <th>name</th>\n",
       "      <th>location</th>\n",
       "      <th>email</th>\n",
       "      <th>login</th>\n",
       "      <th>dob</th>\n",
       "      <th>registered</th>\n",
       "      <th>phone</th>\n",
       "      <th>cell</th>\n",
       "      <th>id</th>\n",
       "      <th>picture</th>\n",
       "      <th>nat</th>\n",
       "    </tr>\n",
       "  </thead>\n",
       "  <tbody>\n",
       "    <tr>\n",
       "      <th>0</th>\n",
       "      <td>male</td>\n",
       "      <td>{'title': 'Mr', 'first': 'Rafael', 'last': 'Sc...</td>\n",
       "      <td>{'street': {'number': 5216, 'name': 'Rectory L...</td>\n",
       "      <td>rafael.schmidt@example.com</td>\n",
       "      <td>{'uuid': 'cdb8bdaa-e96c-4650-a9bf-354496f6b487...</td>\n",
       "      <td>{'date': '1962-06-11T15:17:45.872Z', 'age': 60}</td>\n",
       "      <td>{'date': '2007-08-19T02:43:52.832Z', 'age': 15}</td>\n",
       "      <td>0181 860 6776</td>\n",
       "      <td>07586 399502</td>\n",
       "      <td>{'name': 'NINO', 'value': 'HB 82 34 91 O'}</td>\n",
       "      <td>{'large': 'https://randomuser.me/api/portraits...</td>\n",
       "      <td>GB</td>\n",
       "    </tr>\n",
       "  </tbody>\n",
       "</table>\n",
       "</div>"
      ],
      "text/plain": [
       "  gender                                               name  \\\n",
       "0   male  {'title': 'Mr', 'first': 'Rafael', 'last': 'Sc...   \n",
       "\n",
       "                                            location  \\\n",
       "0  {'street': {'number': 5216, 'name': 'Rectory L...   \n",
       "\n",
       "                        email  \\\n",
       "0  rafael.schmidt@example.com   \n",
       "\n",
       "                                               login  \\\n",
       "0  {'uuid': 'cdb8bdaa-e96c-4650-a9bf-354496f6b487...   \n",
       "\n",
       "                                               dob  \\\n",
       "0  {'date': '1962-06-11T15:17:45.872Z', 'age': 60}   \n",
       "\n",
       "                                        registered          phone  \\\n",
       "0  {'date': '2007-08-19T02:43:52.832Z', 'age': 15}  0181 860 6776   \n",
       "\n",
       "           cell                                          id  \\\n",
       "0  07586 399502  {'name': 'NINO', 'value': 'HB 82 34 91 O'}   \n",
       "\n",
       "                                             picture nat  \n",
       "0  {'large': 'https://randomuser.me/api/portraits...  GB  "
      ]
     },
     "execution_count": 14,
     "metadata": {},
     "output_type": "execute_result"
    }
   ],
   "source": [
    "df"
   ]
  },
  {
   "cell_type": "code",
   "execution_count": 15,
   "id": "39872f7f",
   "metadata": {},
   "outputs": [
    {
     "data": {
      "text/html": [
       "<div>\n",
       "<style scoped>\n",
       "    .dataframe tbody tr th:only-of-type {\n",
       "        vertical-align: middle;\n",
       "    }\n",
       "\n",
       "    .dataframe tbody tr th {\n",
       "        vertical-align: top;\n",
       "    }\n",
       "\n",
       "    .dataframe thead th {\n",
       "        text-align: right;\n",
       "    }\n",
       "</style>\n",
       "<table border=\"1\" class=\"dataframe\">\n",
       "  <thead>\n",
       "    <tr style=\"text-align: right;\">\n",
       "      <th></th>\n",
       "      <th>gender</th>\n",
       "      <th>name</th>\n",
       "      <th>location</th>\n",
       "      <th>email</th>\n",
       "      <th>login</th>\n",
       "      <th>dob</th>\n",
       "      <th>registered</th>\n",
       "      <th>phone</th>\n",
       "      <th>cell</th>\n",
       "      <th>id</th>\n",
       "      <th>picture</th>\n",
       "      <th>nat</th>\n",
       "    </tr>\n",
       "  </thead>\n",
       "  <tbody>\n",
       "    <tr>\n",
       "      <th>count</th>\n",
       "      <td>1</td>\n",
       "      <td>1</td>\n",
       "      <td>1</td>\n",
       "      <td>1</td>\n",
       "      <td>1</td>\n",
       "      <td>1</td>\n",
       "      <td>1</td>\n",
       "      <td>1</td>\n",
       "      <td>1</td>\n",
       "      <td>1</td>\n",
       "      <td>1</td>\n",
       "      <td>1</td>\n",
       "    </tr>\n",
       "    <tr>\n",
       "      <th>unique</th>\n",
       "      <td>1</td>\n",
       "      <td>1</td>\n",
       "      <td>1</td>\n",
       "      <td>1</td>\n",
       "      <td>1</td>\n",
       "      <td>1</td>\n",
       "      <td>1</td>\n",
       "      <td>1</td>\n",
       "      <td>1</td>\n",
       "      <td>1</td>\n",
       "      <td>1</td>\n",
       "      <td>1</td>\n",
       "    </tr>\n",
       "    <tr>\n",
       "      <th>top</th>\n",
       "      <td>male</td>\n",
       "      <td>{'title': 'Mr', 'first': 'Rafael', 'last': 'Sc...</td>\n",
       "      <td>{'street': {'number': 5216, 'name': 'Rectory L...</td>\n",
       "      <td>rafael.schmidt@example.com</td>\n",
       "      <td>{'uuid': 'cdb8bdaa-e96c-4650-a9bf-354496f6b487...</td>\n",
       "      <td>{'date': '1962-06-11T15:17:45.872Z', 'age': 60}</td>\n",
       "      <td>{'date': '2007-08-19T02:43:52.832Z', 'age': 15}</td>\n",
       "      <td>0181 860 6776</td>\n",
       "      <td>07586 399502</td>\n",
       "      <td>{'name': 'NINO', 'value': 'HB 82 34 91 O'}</td>\n",
       "      <td>{'large': 'https://randomuser.me/api/portraits...</td>\n",
       "      <td>GB</td>\n",
       "    </tr>\n",
       "    <tr>\n",
       "      <th>freq</th>\n",
       "      <td>1</td>\n",
       "      <td>1</td>\n",
       "      <td>1</td>\n",
       "      <td>1</td>\n",
       "      <td>1</td>\n",
       "      <td>1</td>\n",
       "      <td>1</td>\n",
       "      <td>1</td>\n",
       "      <td>1</td>\n",
       "      <td>1</td>\n",
       "      <td>1</td>\n",
       "      <td>1</td>\n",
       "    </tr>\n",
       "  </tbody>\n",
       "</table>\n",
       "</div>"
      ],
      "text/plain": [
       "       gender                                               name  \\\n",
       "count       1                                                  1   \n",
       "unique      1                                                  1   \n",
       "top      male  {'title': 'Mr', 'first': 'Rafael', 'last': 'Sc...   \n",
       "freq        1                                                  1   \n",
       "\n",
       "                                                 location  \\\n",
       "count                                                   1   \n",
       "unique                                                  1   \n",
       "top     {'street': {'number': 5216, 'name': 'Rectory L...   \n",
       "freq                                                    1   \n",
       "\n",
       "                             email  \\\n",
       "count                            1   \n",
       "unique                           1   \n",
       "top     rafael.schmidt@example.com   \n",
       "freq                             1   \n",
       "\n",
       "                                                    login  \\\n",
       "count                                                   1   \n",
       "unique                                                  1   \n",
       "top     {'uuid': 'cdb8bdaa-e96c-4650-a9bf-354496f6b487...   \n",
       "freq                                                    1   \n",
       "\n",
       "                                                    dob  \\\n",
       "count                                                 1   \n",
       "unique                                                1   \n",
       "top     {'date': '1962-06-11T15:17:45.872Z', 'age': 60}   \n",
       "freq                                                  1   \n",
       "\n",
       "                                             registered          phone  \\\n",
       "count                                                 1              1   \n",
       "unique                                                1              1   \n",
       "top     {'date': '2007-08-19T02:43:52.832Z', 'age': 15}  0181 860 6776   \n",
       "freq                                                  1              1   \n",
       "\n",
       "                cell                                          id  \\\n",
       "count              1                                           1   \n",
       "unique             1                                           1   \n",
       "top     07586 399502  {'name': 'NINO', 'value': 'HB 82 34 91 O'}   \n",
       "freq               1                                           1   \n",
       "\n",
       "                                                  picture nat  \n",
       "count                                                   1   1  \n",
       "unique                                                  1   1  \n",
       "top     {'large': 'https://randomuser.me/api/portraits...  GB  \n",
       "freq                                                    1   1  "
      ]
     },
     "execution_count": 15,
     "metadata": {},
     "output_type": "execute_result"
    }
   ],
   "source": [
    "df.describe()"
   ]
  },
  {
   "cell_type": "code",
   "execution_count": 16,
   "id": "35891a48",
   "metadata": {},
   "outputs": [
    {
     "data": {
      "text/plain": [
       "(1, 12)"
      ]
     },
     "execution_count": 16,
     "metadata": {},
     "output_type": "execute_result"
    }
   ],
   "source": [
    "df.shape"
   ]
  },
  {
   "cell_type": "code",
   "execution_count": 17,
   "id": "25772ff0",
   "metadata": {},
   "outputs": [
    {
     "data": {
      "text/plain": [
       "<bound method DataFrame.query of   gender                                               name  \\\n",
       "0   male  {'title': 'Mr', 'first': 'Rafael', 'last': 'Sc...   \n",
       "\n",
       "                                            location  \\\n",
       "0  {'street': {'number': 5216, 'name': 'Rectory L...   \n",
       "\n",
       "                        email  \\\n",
       "0  rafael.schmidt@example.com   \n",
       "\n",
       "                                               login  \\\n",
       "0  {'uuid': 'cdb8bdaa-e96c-4650-a9bf-354496f6b487...   \n",
       "\n",
       "                                               dob  \\\n",
       "0  {'date': '1962-06-11T15:17:45.872Z', 'age': 60}   \n",
       "\n",
       "                                        registered          phone  \\\n",
       "0  {'date': '2007-08-19T02:43:52.832Z', 'age': 15}  0181 860 6776   \n",
       "\n",
       "           cell                                          id  \\\n",
       "0  07586 399502  {'name': 'NINO', 'value': 'HB 82 34 91 O'}   \n",
       "\n",
       "                                             picture nat  \n",
       "0  {'large': 'https://randomuser.me/api/portraits...  GB  >"
      ]
     },
     "execution_count": 17,
     "metadata": {},
     "output_type": "execute_result"
    }
   ],
   "source": [
    "df.query"
   ]
  },
  {
   "cell_type": "code",
   "execution_count": 18,
   "id": "86d6142b",
   "metadata": {},
   "outputs": [
    {
     "data": {
      "text/html": [
       "<div>\n",
       "<style scoped>\n",
       "    .dataframe tbody tr th:only-of-type {\n",
       "        vertical-align: middle;\n",
       "    }\n",
       "\n",
       "    .dataframe tbody tr th {\n",
       "        vertical-align: top;\n",
       "    }\n",
       "\n",
       "    .dataframe thead th {\n",
       "        text-align: right;\n",
       "    }\n",
       "</style>\n",
       "<table border=\"1\" class=\"dataframe\">\n",
       "  <thead>\n",
       "    <tr style=\"text-align: right;\">\n",
       "      <th></th>\n",
       "      <th>gender</th>\n",
       "      <th>name</th>\n",
       "      <th>location</th>\n",
       "      <th>email</th>\n",
       "      <th>login</th>\n",
       "      <th>dob</th>\n",
       "      <th>registered</th>\n",
       "      <th>phone</th>\n",
       "      <th>cell</th>\n",
       "      <th>id</th>\n",
       "      <th>picture</th>\n",
       "      <th>nat</th>\n",
       "    </tr>\n",
       "  </thead>\n",
       "  <tbody>\n",
       "  </tbody>\n",
       "</table>\n",
       "</div>"
      ],
      "text/plain": [
       "Empty DataFrame\n",
       "Columns: [gender, name, location, email, login, dob, registered, phone, cell, id, picture, nat]\n",
       "Index: []"
      ]
     },
     "execution_count": 18,
     "metadata": {},
     "output_type": "execute_result"
    }
   ],
   "source": [
    "df[df['gender'] == 'female']"
   ]
  },
  {
   "cell_type": "code",
   "execution_count": 19,
   "id": "8f18503b",
   "metadata": {},
   "outputs": [
    {
     "data": {
      "text/html": [
       "<div>\n",
       "<style scoped>\n",
       "    .dataframe tbody tr th:only-of-type {\n",
       "        vertical-align: middle;\n",
       "    }\n",
       "\n",
       "    .dataframe tbody tr th {\n",
       "        vertical-align: top;\n",
       "    }\n",
       "\n",
       "    .dataframe thead th {\n",
       "        text-align: right;\n",
       "    }\n",
       "</style>\n",
       "<table border=\"1\" class=\"dataframe\">\n",
       "  <thead>\n",
       "    <tr style=\"text-align: right;\">\n",
       "      <th></th>\n",
       "      <th>gender</th>\n",
       "      <th>name</th>\n",
       "      <th>location</th>\n",
       "      <th>email</th>\n",
       "      <th>login</th>\n",
       "      <th>dob</th>\n",
       "      <th>registered</th>\n",
       "      <th>phone</th>\n",
       "      <th>cell</th>\n",
       "      <th>id</th>\n",
       "      <th>picture</th>\n",
       "      <th>nat</th>\n",
       "    </tr>\n",
       "  </thead>\n",
       "  <tbody>\n",
       "    <tr>\n",
       "      <th>0</th>\n",
       "      <td>male</td>\n",
       "      <td>{'title': 'Mr', 'first': 'Rafael', 'last': 'Sc...</td>\n",
       "      <td>{'street': {'number': 5216, 'name': 'Rectory L...</td>\n",
       "      <td>rafael.schmidt@example.com</td>\n",
       "      <td>{'uuid': 'cdb8bdaa-e96c-4650-a9bf-354496f6b487...</td>\n",
       "      <td>{'date': '1962-06-11T15:17:45.872Z', 'age': 60}</td>\n",
       "      <td>{'date': '2007-08-19T02:43:52.832Z', 'age': 15}</td>\n",
       "      <td>0181 860 6776</td>\n",
       "      <td>07586 399502</td>\n",
       "      <td>{'name': 'NINO', 'value': 'HB 82 34 91 O'}</td>\n",
       "      <td>{'large': 'https://randomuser.me/api/portraits...</td>\n",
       "      <td>GB</td>\n",
       "    </tr>\n",
       "  </tbody>\n",
       "</table>\n",
       "</div>"
      ],
      "text/plain": [
       "  gender                                               name  \\\n",
       "0   male  {'title': 'Mr', 'first': 'Rafael', 'last': 'Sc...   \n",
       "\n",
       "                                            location  \\\n",
       "0  {'street': {'number': 5216, 'name': 'Rectory L...   \n",
       "\n",
       "                        email  \\\n",
       "0  rafael.schmidt@example.com   \n",
       "\n",
       "                                               login  \\\n",
       "0  {'uuid': 'cdb8bdaa-e96c-4650-a9bf-354496f6b487...   \n",
       "\n",
       "                                               dob  \\\n",
       "0  {'date': '1962-06-11T15:17:45.872Z', 'age': 60}   \n",
       "\n",
       "                                        registered          phone  \\\n",
       "0  {'date': '2007-08-19T02:43:52.832Z', 'age': 15}  0181 860 6776   \n",
       "\n",
       "           cell                                          id  \\\n",
       "0  07586 399502  {'name': 'NINO', 'value': 'HB 82 34 91 O'}   \n",
       "\n",
       "                                             picture nat  \n",
       "0  {'large': 'https://randomuser.me/api/portraits...  GB  "
      ]
     },
     "execution_count": 19,
     "metadata": {},
     "output_type": "execute_result"
    }
   ],
   "source": [
    "df[df['gender']=='male']"
   ]
  },
  {
   "cell_type": "code",
   "execution_count": null,
   "id": "afa89e7a",
   "metadata": {},
   "outputs": [],
   "source": []
  }
 ],
 "metadata": {
  "kernelspec": {
   "display_name": "Python 3 (ipykernel)",
   "language": "python",
   "name": "python3"
  },
  "language_info": {
   "codemirror_mode": {
    "name": "ipython",
    "version": 3
   },
   "file_extension": ".py",
   "mimetype": "text/x-python",
   "name": "python",
   "nbconvert_exporter": "python",
   "pygments_lexer": "ipython3",
   "version": "3.9.13"
  }
 },
 "nbformat": 4,
 "nbformat_minor": 5
}
